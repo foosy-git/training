{
 "cells": [
  {
   "cell_type": "code",
   "execution_count": 22,
   "metadata": {},
   "outputs": [],
   "source": [
    "import yfinance as yf\n",
    "# from fbprophet import Prophet\n",
    "from prophet import Prophet\n",
    "import plotly.graph_objs as go\n",
    "import pandas as pd\n",
    "# import schedule\n",
    "# import smtplib\n",
    "# from email.mime.text import MIMEText\n",
    "\n",
    "\n"
   ]
  },
  {
   "cell_type": "code",
   "execution_count": 24,
   "metadata": {},
   "outputs": [
    {
     "name": "stdout",
     "output_type": "stream",
     "text": [
      "[*********************100%***********************]  10 of 10 completed\n"
     ]
    }
   ],
   "source": [
    "# Define the list of life science companies\n",
    "life_science_companies = ['JNJ', 'PFE', 'MRK', 'ABBV', 'AMGN', 'GILD', 'BIIB', 'REGN', 'VRTX', 'ILMN']\n",
    "# life_science_companies = ['JNJ']\n",
    "\n",
    "data = yf.download(life_science_companies, start='2022-04-18', end='2023-04-17')\n",
    "data = pd.DataFrame(data)\n",
    "\n"
   ]
  },
  {
   "cell_type": "code",
   "execution_count": 25,
   "metadata": {},
   "outputs": [
    {
     "name": "stdout",
     "output_type": "stream",
     "text": [
      "             Adj Close                                                 \\\n",
      "                  ABBV        AMGN        BIIB       GILD        ILMN   \n",
      "Date                                                                    \n",
      "2022-04-18  153.409836  244.157074  212.539993  59.080746  335.850006   \n",
      "2022-04-19  150.512238  245.552643  223.020004  60.232037  342.269989   \n",
      "2022-04-20  150.849167  247.500641  220.429993  61.018757  344.170013   \n",
      "2022-04-21  152.601196  247.578140  218.399994  61.162670  335.790009   \n",
      "2022-04-22  149.203018  242.625824  209.990005  59.723545  322.670013   \n",
      "\n",
      "                                                                      ...  \\\n",
      "                   JNJ        MRK        PFE        REGN        VRTX  ...   \n",
      "Date                                                                  ...   \n",
      "2022-04-18  172.978836  83.550293  50.130913  723.200012  282.989990  ...   \n",
      "2022-04-19  178.256027  83.278496  48.525639  716.219971  282.519989  ...   \n",
      "2022-04-20  179.044662  83.928879  48.109814  719.619995  285.299988  ...   \n",
      "2022-04-21  178.528625  83.705612  47.490913  706.109985  281.709991  ...   \n",
      "2022-04-22  176.756592  82.113617  46.543221  688.080017  270.420013  ...   \n",
      "\n",
      "             Volume                                                        \\\n",
      "               ABBV     AMGN     BIIB     GILD    ILMN       JNJ      MRK   \n",
      "Date                                                                        \n",
      "2022-04-18  6500200  3615500  1033400  5981200  564900   6318700  7995100   \n",
      "2022-04-19  9359900  2355100  1448600  6178900  749300  14380800  8494700   \n",
      "2022-04-20  6250000  1888100  1028600  7638800  711500   8044900  8719400   \n",
      "2022-04-21  7903300  2117300   932200  6673900  612800   6969200  8562400   \n",
      "2022-04-22  7938300  2617800  1342900  7662000  715900   8003600  7914000   \n",
      "\n",
      "                                       \n",
      "                 PFE    REGN     VRTX  \n",
      "Date                                   \n",
      "2022-04-18  17065000  313300  1326000  \n",
      "2022-04-19  33441500  468000  1354100  \n",
      "2022-04-20  24751800  413700  1115800  \n",
      "2022-04-21  19105600  535200  1118600  \n",
      "2022-04-22  22156800  609400  1774300  \n",
      "\n",
      "[5 rows x 60 columns]\n"
     ]
    }
   ],
   "source": [
    "print(data.head())"
   ]
  },
  {
   "cell_type": "code",
   "execution_count": 19,
   "metadata": {},
   "outputs": [
    {
     "name": "stdout",
     "output_type": "stream",
     "text": [
      "        Date   Adj Close                                                 \\\n",
      "                    ABBV        AMGN        BIIB       GILD        ILMN   \n",
      "0 2022-04-18  153.409836  244.157059  212.539993  59.080746  335.850006   \n",
      "1 2022-04-19  150.512222  245.552643  223.020004  60.232037  342.269989   \n",
      "2 2022-04-20  150.849136  247.500626  220.429993  61.018757  344.170013   \n",
      "3 2022-04-21  152.601212  247.578156  218.399994  61.162670  335.790009   \n",
      "4 2022-04-22  149.203018  242.625824  209.990005  59.723545  322.670013   \n",
      "\n",
      "                                                             \n",
      "          JNJ        MRK        PFE        REGN        VRTX  \n",
      "0  172.978821  83.550301  50.130909  723.200012  282.989990  \n",
      "1  178.256027  83.278488  48.525639  716.219971  282.519989  \n",
      "2  179.044678  83.928886  48.109814  719.619995  285.299988  \n",
      "3  178.528625  83.705612  47.490913  706.109985  281.709991  \n",
      "4  176.756592  82.113617  46.543221  688.080017  270.420013  \n"
     ]
    }
   ],
   "source": [
    "prophet_data = data.reset_index()[['Date', 'Adj Close']]\n",
    "print(prophet_data.head())\n",
    "# prophet_data.columns = ['ds', 'y']\n",
    "# prophet_data['company'] = 'JNJ'"
   ]
  },
  {
   "cell_type": "code",
   "execution_count": 16,
   "metadata": {},
   "outputs": [
    {
     "ename": "ValueError",
     "evalue": "Dataframe must have columns \"ds\" and \"y\" with the dates and values respectively.",
     "output_type": "error",
     "traceback": [
      "\u001b[1;31m---------------------------------------------------------------------------\u001b[0m",
      "\u001b[1;31mValueError\u001b[0m                                Traceback (most recent call last)",
      "Cell \u001b[1;32mIn[16], line 5\u001b[0m\n\u001b[0;32m      3\u001b[0m     company_data \u001b[39m=\u001b[39m prophet_data[prophet_data[\u001b[39m'\u001b[39m\u001b[39mcompany\u001b[39m\u001b[39m'\u001b[39m] \u001b[39m==\u001b[39m company]\n\u001b[0;32m      4\u001b[0m     model \u001b[39m=\u001b[39m Prophet()\n\u001b[1;32m----> 5\u001b[0m     model\u001b[39m.\u001b[39;49mfit(company_data)\n\u001b[0;32m      6\u001b[0m     models[company] \u001b[39m=\u001b[39m model\n\u001b[0;32m      8\u001b[0m \u001b[39m# Make a forecast for each company\u001b[39;00m\n",
      "File \u001b[1;32mc:\\Users\\shiyu\\OneDrive\\Documents\\Python\\.conda\\lib\\site-packages\\prophet\\forecaster.py:1117\u001b[0m, in \u001b[0;36mProphet.fit\u001b[1;34m(self, df, **kwargs)\u001b[0m\n\u001b[0;32m   1114\u001b[0m     \u001b[39mraise\u001b[39;00m \u001b[39mException\u001b[39;00m(\u001b[39m'\u001b[39m\u001b[39mProphet object can only be fit once. \u001b[39m\u001b[39m'\u001b[39m\n\u001b[0;32m   1115\u001b[0m                     \u001b[39m'\u001b[39m\u001b[39mInstantiate a new object.\u001b[39m\u001b[39m'\u001b[39m)\n\u001b[0;32m   1116\u001b[0m \u001b[39mif\u001b[39;00m (\u001b[39m'\u001b[39m\u001b[39mds\u001b[39m\u001b[39m'\u001b[39m \u001b[39mnot\u001b[39;00m \u001b[39min\u001b[39;00m df) \u001b[39mor\u001b[39;00m (\u001b[39m'\u001b[39m\u001b[39my\u001b[39m\u001b[39m'\u001b[39m \u001b[39mnot\u001b[39;00m \u001b[39min\u001b[39;00m df):\n\u001b[1;32m-> 1117\u001b[0m     \u001b[39mraise\u001b[39;00m \u001b[39mValueError\u001b[39;00m(\n\u001b[0;32m   1118\u001b[0m         \u001b[39m'\u001b[39m\u001b[39mDataframe must have columns \u001b[39m\u001b[39m\"\u001b[39m\u001b[39mds\u001b[39m\u001b[39m\"\u001b[39m\u001b[39m and \u001b[39m\u001b[39m\"\u001b[39m\u001b[39my\u001b[39m\u001b[39m\"\u001b[39m\u001b[39m with the dates and \u001b[39m\u001b[39m'\u001b[39m\n\u001b[0;32m   1119\u001b[0m         \u001b[39m'\u001b[39m\u001b[39mvalues respectively.\u001b[39m\u001b[39m'\u001b[39m\n\u001b[0;32m   1120\u001b[0m     )\n\u001b[0;32m   1121\u001b[0m history \u001b[39m=\u001b[39m df[df[\u001b[39m'\u001b[39m\u001b[39my\u001b[39m\u001b[39m'\u001b[39m]\u001b[39m.\u001b[39mnotnull()]\u001b[39m.\u001b[39mcopy()\n\u001b[0;32m   1122\u001b[0m \u001b[39mif\u001b[39;00m history\u001b[39m.\u001b[39mshape[\u001b[39m0\u001b[39m] \u001b[39m<\u001b[39m \u001b[39m2\u001b[39m:\n",
      "\u001b[1;31mValueError\u001b[0m: Dataframe must have columns \"ds\" and \"y\" with the dates and values respectively."
     ]
    }
   ],
   "source": [
    "    models = {}\n",
    "    for company in life_science_companies:\n",
    "        company_data = prophet_data[prophet_data['company'] == company]\n",
    "        model = Prophet()\n",
    "        model.fit(company_data)\n",
    "        models[company] = model\n",
    "    \n",
    "    # Make a forecast for each company\n",
    "    fig = go.Figure()\n",
    "    for company in life_science_companies:\n",
    "        future = models[company].make_future_dataframe(periods=365)\n",
    "        forecast = models[company].predict(future)\n",
    "        fig.add_trace(go.Scatter(x=forecast['ds'], y=forecast['yhat'], name=company))\n",
    "    fig.update_layout(title='Life Science Companies Forecasted Prices', xaxis_title='Date', yaxis_title='Forecasted Price')\n",
    "    fig.show()"
   ]
  },
  {
   "cell_type": "code",
   "execution_count": 5,
   "metadata": {},
   "outputs": [
    {
     "name": "stdout",
     "output_type": "stream",
     "text": [
      "[*********************100%***********************]  10 of 10 completed\n"
     ]
    },
    {
     "ename": "ValueError",
     "evalue": "Length mismatch: Expected axis has 11 elements, new values have 2 elements",
     "output_type": "error",
     "traceback": [
      "\u001b[1;31m---------------------------------------------------------------------------\u001b[0m",
      "\u001b[1;31mValueError\u001b[0m                                Traceback (most recent call last)",
      "Cell \u001b[1;32mIn[5], line 37\u001b[0m\n\u001b[0;32m     34\u001b[0m     fig\u001b[39m.\u001b[39mupdate_layout(title\u001b[39m=\u001b[39m\u001b[39m'\u001b[39m\u001b[39mLife Science Companies Forecasted Prices\u001b[39m\u001b[39m'\u001b[39m, xaxis_title\u001b[39m=\u001b[39m\u001b[39m'\u001b[39m\u001b[39mDate\u001b[39m\u001b[39m'\u001b[39m, yaxis_title\u001b[39m=\u001b[39m\u001b[39m'\u001b[39m\u001b[39mForecasted Price\u001b[39m\u001b[39m'\u001b[39m)\n\u001b[0;32m     35\u001b[0m     fig\u001b[39m.\u001b[39mshow()\n\u001b[1;32m---> 37\u001b[0m retrieve_and_forecast()\n\u001b[0;32m     38\u001b[0m     \u001b[39m# Send an email with the summary of the results\u001b[39;00m\n\u001b[0;32m     39\u001b[0m     \u001b[39m# message = 'The forecasted stock prices for all life science companies are attached.'\u001b[39;00m\n\u001b[0;32m     40\u001b[0m     \u001b[39m# msg = MIMEText(message)\u001b[39;00m\n\u001b[1;32m   (...)\u001b[0m\n\u001b[0;32m     50\u001b[0m \u001b[39m# # Schedule the script to run every day at a specified time\u001b[39;00m\n\u001b[0;32m     51\u001b[0m \u001b[39m# schedule.every().day.at('12:00').do(retrieve_and_forecast)\u001b[39;00m\n",
      "Cell \u001b[1;32mIn[5], line 17\u001b[0m, in \u001b[0;36mretrieve_and_forecast\u001b[1;34m()\u001b[0m\n\u001b[0;32m     15\u001b[0m \u001b[39m# Prepare the data for Prophet\u001b[39;00m\n\u001b[0;32m     16\u001b[0m prophet_data \u001b[39m=\u001b[39m data\u001b[39m.\u001b[39mreset_index()[[\u001b[39m'\u001b[39m\u001b[39mDate\u001b[39m\u001b[39m'\u001b[39m, \u001b[39m'\u001b[39m\u001b[39mAdj Close\u001b[39m\u001b[39m'\u001b[39m]]\n\u001b[1;32m---> 17\u001b[0m prophet_data\u001b[39m.\u001b[39;49mcolumns \u001b[39m=\u001b[39m [\u001b[39m'\u001b[39m\u001b[39mds\u001b[39m\u001b[39m'\u001b[39m, \u001b[39m'\u001b[39m\u001b[39my\u001b[39m\u001b[39m'\u001b[39m]\n\u001b[0;32m     18\u001b[0m prophet_data[\u001b[39m'\u001b[39m\u001b[39mcompany\u001b[39m\u001b[39m'\u001b[39m] \u001b[39m=\u001b[39m \u001b[39m'\u001b[39m\u001b[39mJNJ\u001b[39m\u001b[39m'\u001b[39m\n\u001b[0;32m     20\u001b[0m \u001b[39m# Create a Prophet model for each company and fit the data\u001b[39;00m\n",
      "File \u001b[1;32mc:\\Users\\shiyu\\OneDrive\\Documents\\Python\\.conda\\lib\\site-packages\\pandas\\core\\generic.py:5915\u001b[0m, in \u001b[0;36mNDFrame.__setattr__\u001b[1;34m(self, name, value)\u001b[0m\n\u001b[0;32m   5913\u001b[0m \u001b[39mtry\u001b[39;00m:\n\u001b[0;32m   5914\u001b[0m     \u001b[39mobject\u001b[39m\u001b[39m.\u001b[39m\u001b[39m__getattribute__\u001b[39m(\u001b[39mself\u001b[39m, name)\n\u001b[1;32m-> 5915\u001b[0m     \u001b[39mreturn\u001b[39;00m \u001b[39mobject\u001b[39;49m\u001b[39m.\u001b[39;49m\u001b[39m__setattr__\u001b[39;49m(\u001b[39mself\u001b[39;49m, name, value)\n\u001b[0;32m   5916\u001b[0m \u001b[39mexcept\u001b[39;00m \u001b[39mAttributeError\u001b[39;00m:\n\u001b[0;32m   5917\u001b[0m     \u001b[39mpass\u001b[39;00m\n",
      "File \u001b[1;32mc:\\Users\\shiyu\\OneDrive\\Documents\\Python\\.conda\\lib\\site-packages\\pandas\\_libs\\properties.pyx:69\u001b[0m, in \u001b[0;36mpandas._libs.properties.AxisProperty.__set__\u001b[1;34m()\u001b[0m\n",
      "File \u001b[1;32mc:\\Users\\shiyu\\OneDrive\\Documents\\Python\\.conda\\lib\\site-packages\\pandas\\core\\generic.py:823\u001b[0m, in \u001b[0;36mNDFrame._set_axis\u001b[1;34m(self, axis, labels)\u001b[0m\n\u001b[0;32m    821\u001b[0m \u001b[39mdef\u001b[39;00m \u001b[39m_set_axis\u001b[39m(\u001b[39mself\u001b[39m, axis: \u001b[39mint\u001b[39m, labels: AnyArrayLike \u001b[39m|\u001b[39m \u001b[39mlist\u001b[39m) \u001b[39m-\u001b[39m\u001b[39m>\u001b[39m \u001b[39mNone\u001b[39;00m:\n\u001b[0;32m    822\u001b[0m     labels \u001b[39m=\u001b[39m ensure_index(labels)\n\u001b[1;32m--> 823\u001b[0m     \u001b[39mself\u001b[39;49m\u001b[39m.\u001b[39;49m_mgr\u001b[39m.\u001b[39;49mset_axis(axis, labels)\n\u001b[0;32m    824\u001b[0m     \u001b[39mself\u001b[39m\u001b[39m.\u001b[39m_clear_item_cache()\n",
      "File \u001b[1;32mc:\\Users\\shiyu\\OneDrive\\Documents\\Python\\.conda\\lib\\site-packages\\pandas\\core\\internals\\managers.py:230\u001b[0m, in \u001b[0;36mBaseBlockManager.set_axis\u001b[1;34m(self, axis, new_labels)\u001b[0m\n\u001b[0;32m    228\u001b[0m \u001b[39mdef\u001b[39;00m \u001b[39mset_axis\u001b[39m(\u001b[39mself\u001b[39m, axis: \u001b[39mint\u001b[39m, new_labels: Index) \u001b[39m-\u001b[39m\u001b[39m>\u001b[39m \u001b[39mNone\u001b[39;00m:\n\u001b[0;32m    229\u001b[0m     \u001b[39m# Caller is responsible for ensuring we have an Index object.\u001b[39;00m\n\u001b[1;32m--> 230\u001b[0m     \u001b[39mself\u001b[39;49m\u001b[39m.\u001b[39;49m_validate_set_axis(axis, new_labels)\n\u001b[0;32m    231\u001b[0m     \u001b[39mself\u001b[39m\u001b[39m.\u001b[39maxes[axis] \u001b[39m=\u001b[39m new_labels\n",
      "File \u001b[1;32mc:\\Users\\shiyu\\OneDrive\\Documents\\Python\\.conda\\lib\\site-packages\\pandas\\core\\internals\\base.py:70\u001b[0m, in \u001b[0;36mDataManager._validate_set_axis\u001b[1;34m(self, axis, new_labels)\u001b[0m\n\u001b[0;32m     67\u001b[0m     \u001b[39mpass\u001b[39;00m\n\u001b[0;32m     69\u001b[0m \u001b[39melif\u001b[39;00m new_len \u001b[39m!=\u001b[39m old_len:\n\u001b[1;32m---> 70\u001b[0m     \u001b[39mraise\u001b[39;00m \u001b[39mValueError\u001b[39;00m(\n\u001b[0;32m     71\u001b[0m         \u001b[39mf\u001b[39m\u001b[39m\"\u001b[39m\u001b[39mLength mismatch: Expected axis has \u001b[39m\u001b[39m{\u001b[39;00mold_len\u001b[39m}\u001b[39;00m\u001b[39m elements, new \u001b[39m\u001b[39m\"\u001b[39m\n\u001b[0;32m     72\u001b[0m         \u001b[39mf\u001b[39m\u001b[39m\"\u001b[39m\u001b[39mvalues have \u001b[39m\u001b[39m{\u001b[39;00mnew_len\u001b[39m}\u001b[39;00m\u001b[39m elements\u001b[39m\u001b[39m\"\u001b[39m\n\u001b[0;32m     73\u001b[0m     )\n",
      "\u001b[1;31mValueError\u001b[0m: Length mismatch: Expected axis has 11 elements, new values have 2 elements"
     ]
    }
   ],
   "source": [
    "# Define the list of life science companies\n",
    "life_science_companies = ['JNJ', 'PFE', 'MRK', 'ABBV', 'AMGN', 'GILD', 'BIIB', 'REGN', 'VRTX', 'ILMN']\n",
    "\n",
    "# Define the email parameters\n",
    "sender_email = 'sender_email_address'\n",
    "receiver_email = 'shiyunn.dream@gmail.com'\n",
    "password = 'sender_email_password'\n",
    "\n",
    "# Define the function to retrieve and forecast the stock prices\n",
    "\n",
    "def retrieve_and_forecast():\n",
    "    # Retrieve the historical stock prices data for the past year\n",
    "    data = yf.download(life_science_companies, start='2022-04-18', end='2023-04-17')\n",
    "    \n",
    "    # Prepare the data for Prophet\n",
    "    prophet_data = data.reset_index()[['Date', 'Adj Close']]\n",
    "    prophet_data.columns = ['ds', 'y']\n",
    "    prophet_data['company'] = 'JNJ'\n",
    "    \n",
    "    # Create a Prophet model for each company and fit the data\n",
    "    models = {}\n",
    "    for company in life_science_companies:\n",
    "        company_data = prophet_data[prophet_data['company'] == company]\n",
    "        model = Prophet()\n",
    "        model.fit(company_data)\n",
    "        models[company] = model\n",
    "    \n",
    "    # Make a forecast for each company\n",
    "    fig = go.Figure()\n",
    "    for company in life_science_companies:\n",
    "        future = models[company].make_future_dataframe(periods=365)\n",
    "        forecast = models[company].predict(future)\n",
    "        fig.add_trace(go.Scatter(x=forecast['ds'], y=forecast['yhat'], name=company))\n",
    "    fig.update_layout(title='Life Science Companies Forecasted Prices', xaxis_title='Date', yaxis_title='Forecasted Price')\n",
    "    fig.show()\n",
    "    \n",
    "retrieve_and_forecast()\n",
    "    # Send an email with the summary of the results\n",
    "    # message = 'The forecasted stock prices for all life science companies are attached.'\n",
    "    # msg = MIMEText(message)\n",
    "    # msg['Subject'] = 'Life Science Companies Forecasted Prices'\n",
    "    # msg['From'] = sender_email\n",
    "    # msg['To'] = receiver_email\n",
    "    \n",
    "    # with smtplib.SMTP_SSL('smtp.gmail.com', 465) as smtp:\n",
    "    #     smtp.login(sender_email, password)\n",
    "    #     smtp.sendmail(sender_email, receiver_email, msg.as_string())\n",
    "    #     smtp.quit()\n",
    "\n",
    "# # Schedule the script to run every day at a specified time\n",
    "# schedule.every().day.at('12:00').do(retrieve_and_forecast)"
   ]
  }
 ],
 "metadata": {
  "kernelspec": {
   "display_name": "Python 3",
   "language": "python",
   "name": "python3"
  },
  "language_info": {
   "codemirror_mode": {
    "name": "ipython",
    "version": 3
   },
   "file_extension": ".py",
   "mimetype": "text/x-python",
   "name": "python",
   "nbconvert_exporter": "python",
   "pygments_lexer": "ipython3",
   "version": "3.10.8"
  },
  "orig_nbformat": 4
 },
 "nbformat": 4,
 "nbformat_minor": 2
}

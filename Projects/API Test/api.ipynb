{
 "cells": [
  {
   "cell_type": "code",
   "execution_count": 15,
   "metadata": {},
   "outputs": [],
   "source": [
    "import requests\n",
    "import pandas as pd"
   ]
  },
  {
   "cell_type": "code",
   "execution_count": 16,
   "metadata": {},
   "outputs": [],
   "source": [
    "#main URL https://demo3.poms.com/poms-api/swagger/ui/index\n",
    "url = \"https://demo3.poms.com/poms-api/v1/Equipment/ByClass/pH%20Meter\"\n",
    "response = requests.get(url)\n",
    "data = response.json()"
   ]
  },
  {
   "cell_type": "code",
   "execution_count": 28,
   "metadata": {},
   "outputs": [
    {
     "data": {
      "text/html": [
       "<div>\n",
       "<style scoped>\n",
       "    .dataframe tbody tr th:only-of-type {\n",
       "        vertical-align: middle;\n",
       "    }\n",
       "\n",
       "    .dataframe tbody tr th {\n",
       "        vertical-align: top;\n",
       "    }\n",
       "\n",
       "    .dataframe thead th {\n",
       "        text-align: right;\n",
       "    }\n",
       "</style>\n",
       "<table border=\"1\" class=\"dataframe\">\n",
       "  <thead>\n",
       "    <tr style=\"text-align: right;\">\n",
       "      <th></th>\n",
       "      <th>EQUIPMENT_ID</th>\n",
       "      <th>EQUIPMENT_DESC</th>\n",
       "      <th>LAST_CHANGED_DATE</th>\n",
       "    </tr>\n",
       "  </thead>\n",
       "  <tbody>\n",
       "    <tr>\n",
       "      <th>0</th>\n",
       "      <td>000002</td>\n",
       "      <td>pH Meter 000002</td>\n",
       "      <td>2021-02-18T12:34:49.590394</td>\n",
       "    </tr>\n",
       "    <tr>\n",
       "      <th>1</th>\n",
       "      <td>000002A</td>\n",
       "      <td>pH Meter 000002A</td>\n",
       "      <td>2019-10-09T19:53:56.445322</td>\n",
       "    </tr>\n",
       "  </tbody>\n",
       "</table>\n",
       "</div>"
      ],
      "text/plain": [
       "  EQUIPMENT_ID    EQUIPMENT_DESC           LAST_CHANGED_DATE\n",
       "0       000002   pH Meter 000002  2021-02-18T12:34:49.590394\n",
       "1      000002A  pH Meter 000002A  2019-10-09T19:53:56.445322"
      ]
     },
     "execution_count": 28,
     "metadata": {},
     "output_type": "execute_result"
    }
   ],
   "source": [
    "df = pd.DataFrame(data)\n",
    "equipment_info = df[['EQUIPMENT_ID','EQUIPMENT_DESC','LAST_CHANGED_DATE']]\n",
    "equipment_info"
   ]
  }
 ],
 "metadata": {
  "kernelspec": {
   "display_name": "Python 3",
   "language": "python",
   "name": "python3"
  },
  "language_info": {
   "codemirror_mode": {
    "name": "ipython",
    "version": 3
   },
   "file_extension": ".py",
   "mimetype": "text/x-python",
   "name": "python",
   "nbconvert_exporter": "python",
   "pygments_lexer": "ipython3",
   "version": "3.10.8"
  },
  "orig_nbformat": 4,
  "vscode": {
   "interpreter": {
    "hash": "d27e63bbcbf44b66009138421d5fec21d09f80d30f8c9f9ef8b69daf5d040b86"
   }
  }
 },
 "nbformat": 4,
 "nbformat_minor": 2
}

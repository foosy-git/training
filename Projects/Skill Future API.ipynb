{
 "cells": [
  {
   "cell_type": "code",
   "execution_count": 3,
   "metadata": {},
   "outputs": [],
   "source": [
    "from requests_oauthlib import OAuth2Session\n",
    "from oauthlib.oauth2 import BackendApplicationClient\n",
    "from pandas.io.json import json_normalize\n",
    "import os\n",
    "import pandas as pd\n",
    "import time\n"
   ]
  },
  {
   "cell_type": "code",
   "execution_count": 14,
   "metadata": {},
   "outputs": [
    {
     "name": "stdout",
     "output_type": "stream",
     "text": [
      "0\n",
      "Status Code=  200\n"
     ]
    },
    {
     "name": "stderr",
     "output_type": "stream",
     "text": [
      "C:\\Users\\shiyu\\AppData\\Local\\Temp\\ipykernel_12016\\3492877878.py:22: FutureWarning: pandas.io.json.json_normalize is deprecated, use pandas.json_normalize instead.\n",
      "  df2 = json_normalize(df[\"data\"][\"courses\"])\n"
     ]
    },
    {
     "name": "stdout",
     "output_type": "stream",
     "text": [
      "1\n",
      "Status Code=  200\n"
     ]
    },
    {
     "name": "stderr",
     "output_type": "stream",
     "text": [
      "C:\\Users\\shiyu\\AppData\\Local\\Temp\\ipykernel_12016\\3492877878.py:22: FutureWarning: pandas.io.json.json_normalize is deprecated, use pandas.json_normalize instead.\n",
      "  df2 = json_normalize(df[\"data\"][\"courses\"])\n"
     ]
    },
    {
     "name": "stdout",
     "output_type": "stream",
     "text": [
      "2\n",
      "Status Code=  200\n"
     ]
    },
    {
     "name": "stderr",
     "output_type": "stream",
     "text": [
      "C:\\Users\\shiyu\\AppData\\Local\\Temp\\ipykernel_12016\\3492877878.py:22: FutureWarning: pandas.io.json.json_normalize is deprecated, use pandas.json_normalize instead.\n",
      "  df2 = json_normalize(df[\"data\"][\"courses\"])\n"
     ]
    },
    {
     "name": "stdout",
     "output_type": "stream",
     "text": [
      "3\n",
      "Status Code=  200\n"
     ]
    },
    {
     "name": "stderr",
     "output_type": "stream",
     "text": [
      "C:\\Users\\shiyu\\AppData\\Local\\Temp\\ipykernel_12016\\3492877878.py:22: FutureWarning: pandas.io.json.json_normalize is deprecated, use pandas.json_normalize instead.\n",
      "  df2 = json_normalize(df[\"data\"][\"courses\"])\n"
     ]
    },
    {
     "name": "stdout",
     "output_type": "stream",
     "text": [
      "4\n",
      "Status Code=  200\n"
     ]
    },
    {
     "name": "stderr",
     "output_type": "stream",
     "text": [
      "C:\\Users\\shiyu\\AppData\\Local\\Temp\\ipykernel_12016\\3492877878.py:22: FutureWarning: pandas.io.json.json_normalize is deprecated, use pandas.json_normalize instead.\n",
      "  df2 = json_normalize(df[\"data\"][\"courses\"])\n"
     ]
    },
    {
     "name": "stdout",
     "output_type": "stream",
     "text": [
      "5\n",
      "Status Code=  200\n"
     ]
    },
    {
     "name": "stderr",
     "output_type": "stream",
     "text": [
      "C:\\Users\\shiyu\\AppData\\Local\\Temp\\ipykernel_12016\\3492877878.py:22: FutureWarning: pandas.io.json.json_normalize is deprecated, use pandas.json_normalize instead.\n",
      "  df2 = json_normalize(df[\"data\"][\"courses\"])\n"
     ]
    },
    {
     "name": "stdout",
     "output_type": "stream",
     "text": [
      "6\n",
      "Status Code=  200\n"
     ]
    },
    {
     "name": "stderr",
     "output_type": "stream",
     "text": [
      "C:\\Users\\shiyu\\AppData\\Local\\Temp\\ipykernel_12016\\3492877878.py:22: FutureWarning: pandas.io.json.json_normalize is deprecated, use pandas.json_normalize instead.\n",
      "  df2 = json_normalize(df[\"data\"][\"courses\"])\n"
     ]
    },
    {
     "name": "stdout",
     "output_type": "stream",
     "text": [
      "7\n",
      "Status Code=  200\n"
     ]
    },
    {
     "name": "stderr",
     "output_type": "stream",
     "text": [
      "C:\\Users\\shiyu\\AppData\\Local\\Temp\\ipykernel_12016\\3492877878.py:22: FutureWarning: pandas.io.json.json_normalize is deprecated, use pandas.json_normalize instead.\n",
      "  df2 = json_normalize(df[\"data\"][\"courses\"])\n"
     ]
    },
    {
     "name": "stdout",
     "output_type": "stream",
     "text": [
      "8\n",
      "Status Code=  200\n"
     ]
    },
    {
     "name": "stderr",
     "output_type": "stream",
     "text": [
      "C:\\Users\\shiyu\\AppData\\Local\\Temp\\ipykernel_12016\\3492877878.py:22: FutureWarning: pandas.io.json.json_normalize is deprecated, use pandas.json_normalize instead.\n",
      "  df2 = json_normalize(df[\"data\"][\"courses\"])\n"
     ]
    },
    {
     "name": "stdout",
     "output_type": "stream",
     "text": [
      "9\n",
      "Status Code=  200\n"
     ]
    },
    {
     "name": "stderr",
     "output_type": "stream",
     "text": [
      "C:\\Users\\shiyu\\AppData\\Local\\Temp\\ipykernel_12016\\3492877878.py:22: FutureWarning: pandas.io.json.json_normalize is deprecated, use pandas.json_normalize instead.\n",
      "  df2 = json_normalize(df[\"data\"][\"courses\"])\n"
     ]
    }
   ],
   "source": [
    "##create account here: https://developer.ssg-wsg.gov.sg/webapp/docs to get id and secret for auth to use api.\n",
    "client_id = \"6fe6d9c9c4e949dc803a92638cc41665\"\n",
    "client_secret = \"Y2NkZDU1MjctMzU0MS00YWYyLTlkOWEtY2ZhODI2ZTYxNTMx\"  \n",
    "##downloads_folder = os.path.expanduser(\"~/Downloads\")\n",
    "output_folder = os.path.expanduser(\"~/Downloads\")\n",
    "for i in range(0,10):\n",
    "    request_url = \"https://public-api.ssg-wsg.sg/courses/directory?pageSize=100&page={i}&taggingCodes=1,2&courseSupportEndDate=20230331&retrieveType=FULL\".format(i=i)\n",
    "    #print(request_url)\n",
    "    print(i)\n",
    "    client = BackendApplicationClient(client_id=client_id)\n",
    "    oauth = OAuth2Session(client=client)\n",
    "    token = oauth.fetch_token(\n",
    "        token_url='https://public-api.ssg-wsg.sg/dp-oauth/oauth/token',\n",
    "        client_id=client_id,\n",
    "        client_secret=client_secret\n",
    "    )\n",
    "\n",
    "    response = oauth.get(request_url)\n",
    "    print(\"Status Code= \", response.status_code)\n",
    "    j = response.json()\n",
    "    df = pd.DataFrame.from_dict(j)\n",
    "    df2 = json_normalize(df[\"data\"][\"courses\"])\n",
    "    ##df3 = json_normalize(df2[\"areaOfTrainings\"])\n",
    "\n",
    "    # print(df2)\n",
    "    \n",
    "    filename = \"data_{i}.csv\".format(i=i)\n",
    "    # output_folder.upload_data(filename, df2.to_csv(index=False).encode(\"utf-8\"))\n",
    "    df2.to_csv(os.path.join(output_folder, filename), index=False)\n",
    "    time.sleep(2)"
   ]
  }
 ],
 "metadata": {
  "kernelspec": {
   "display_name": "Python 3",
   "language": "python",
   "name": "python3"
  },
  "language_info": {
   "codemirror_mode": {
    "name": "ipython",
    "version": 3
   },
   "file_extension": ".py",
   "mimetype": "text/x-python",
   "name": "python",
   "nbconvert_exporter": "python",
   "pygments_lexer": "ipython3",
   "version": "3.10.8"
  },
  "orig_nbformat": 4
 },
 "nbformat": 4,
 "nbformat_minor": 2
}

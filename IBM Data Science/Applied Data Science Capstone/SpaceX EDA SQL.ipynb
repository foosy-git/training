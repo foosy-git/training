{
    "cells": [
        {
            "cell_type": "markdown",
            "metadata": {},
            "source": [
                "<p style=\"text-align:center\">\n",
                "    <a href=\"https://skills.network/?utm_medium=Exinfluencer&utm_source=Exinfluencer&utm_content=000026UJ&utm_term=10006555&utm_id=NA-SkillsNetwork-Channel-SkillsNetworkCoursesIBMDS0321ENSkillsNetwork26802033-2022-01-01\" target=\"_blank\">\n",
                "    <img src=\"https://cf-courses-data.s3.us.cloud-object-storage.appdomain.cloud/assets/logos/SN_web_lightmode.png\" width=\"200\" alt=\"Skills Network Logo\"  />\n",
                "    </a>\n",
                "</p>\n",
                "\n",
                "<h1 align=center><font size = 5>Assignment: SQL Notebook for Peer Assignment</font></h1>\n",
                "\n",
                "Estimated time needed: **60** minutes.\n",
                "\n",
                "## Introduction\n",
                "\n",
                "Using this Python notebook you will:\n",
                "\n",
                "1.  Understand the Spacex DataSet\n",
                "2.  Load the dataset  into the corresponding table in a Db2 database\n",
                "3.  Execute SQL queries to answer assignment questions\n"
            ]
        },
        {
            "cell_type": "markdown",
            "metadata": {},
            "source": [
                "## Overview of the DataSet\n",
                "\n",
                "SpaceX has gained worldwide attention for a series of historic milestones.\n",
                "\n",
                "It is the only private company ever to return a spacecraft from low-earth orbit, which it first accomplished in December 2010.\n",
                "SpaceX advertises Falcon 9 rocket launches on its website with a cost of 62 million dollars wheras other providers cost upward of 165 million dollars each, much of the savings is because Space X can reuse the first stage.\n",
                "\n",
                "Therefore if we can determine if the first stage will land, we can determine the cost of a launch.\n",
                "\n",
                "This information can be used if an alternate company wants to bid against SpaceX for a rocket launch.\n",
                "\n",
                "This dataset includes a record for each payload carried during a SpaceX mission into outer space.\n"
            ]
        },
        {
            "cell_type": "markdown",
            "metadata": {},
            "source": [
                "### Download the datasets\n",
                "\n",
                "This assignment requires you to load the spacex dataset.\n",
                "\n",
                "In many cases the dataset to be analyzed is available as a .CSV (comma separated values) file, perhaps on the internet. Click on the link below to download and save the dataset (.CSV file):\n",
                "\n",
                "<a href=\"https://cf-courses-data.s3.us.cloud-object-storage.appdomain.cloud/IBM-DS0321EN-SkillsNetwork/labs/module_2/data/Spacex.csv?utm_medium=Exinfluencer&utm_source=Exinfluencer&utm_content=000026UJ&utm_term=10006555&utm_id=NA-SkillsNetwork-Channel-SkillsNetworkCoursesIBMDS0321ENSkillsNetwork26802033-2022-01-01\" target=\"_blank\">Spacex DataSet</a>\n"
            ]
        },
        {
            "cell_type": "markdown",
            "metadata": {},
            "source": [
                "**Navigate to the Go to UI screen**\n",
                "\n",
                "*   Refer to this insruction in this <a href=\"https://cf-courses-data.s3.us.cloud-object-storage.appdomain.cloud/IBMDeveloperSkillsNetwork-DB0201EN-SkillsNetwork/labs/Labs_Coursera_V5/labs/Lab%20-%20Sign%20up%20for%20IBM%20Cloud%20-%20Create%20Db2%20service%20instance%20-%20Get%20started%20with%20the%20Db2%20console/instructional-labs.md.html?utm_medium=Exinfluencer&utm_source=Exinfluencer&utm_content=000026UJ&utm_term=10006555&utm_id=NA-SkillsNetwork-Channel-SkillsNetworkCoursesIBMDS0321ENSkillsNetwork26802033-2022-01-01\">link</a> for viewing  the   Go to UI screen.\n",
                "\n",
                "*   Later click on **Data link(below SQL)**  in the Go to UI screen  and click on **Load Data** tab.\n",
                "\n",
                "*   Later browse for the downloaded spacex file.\n",
                "\n",
                "<img src=\"https://cf-courses-data.s3.us.cloud-object-storage.appdomain.cloud/IBM-DS0321EN-SkillsNetwork/labs/module_2/images/browsefile.png\" width=\"800\"/>\n",
                "\n",
                "*   Once done select the schema andload the file.\n",
                "\n",
                " <img src=\"https://cf-courses-data.s3.us.cloud-object-storage.appdomain.cloud/IBM-DS0321EN-SkillsNetwork/labs/module_2/images/spacexload3.png\" width=\"800\"/>\n"
            ]
        },
        {
            "cell_type": "code",
            "execution_count": 2,
            "metadata": {},
            "outputs": [],
            "source": [
                "#!pip install sqlalchemy==1.3.9\n",
                "#!pip install ibm_db_sa\n",
                "#!pip install ipython-sql"
            ]
        },
        {
            "cell_type": "markdown",
            "metadata": {},
            "source": [
                "### Connect to the database\n",
                "\n",
                "Let us first load the SQL extension and establish a connection with the database\n"
            ]
        },
        {
            "cell_type": "code",
            "execution_count": 3,
            "metadata": {},
            "outputs": [],
            "source": [
                "%load_ext sql"
            ]
        },
        {
            "cell_type": "markdown",
            "metadata": {},
            "source": [
                "**DB2 magic in case of old UI service credentials.**\n",
                "\n",
                "In the next cell enter your db2 connection string. Recall you created Service Credentials for your Db2 instance before. From the **uri** field of your Db2 service credentials copy everything after db2:// (except the double quote at the end) and paste it in the cell below after ibm_db_sa://\n",
                "\n",
                "<img src =\"https://cf-courses-data.s3.us.cloud-object-storage.appdomain.cloud/IBMDeveloperSkillsNetwork-DB0201EN-SkillsNetwork/labs/FinalModule_edX/images/URI.jpg\">\n",
                "\n",
                "in the following format\n",
                "\n",
                "**%sql ibm_db_sa://my-username:my-password\\@my-hostname:my-port/my-db-name**\n",
                "\n",
                "**DB2 magic in case of new UI service credentials.**\n",
                "\n",
                "<img src =\"https://cf-courses-data.s3.us.cloud-object-storage.appdomain.cloud/IBM-DS0321EN-SkillsNetwork/labs/module_2/images/servicecredentials.png\" width=600>  \n",
                "\n",
                "*   Use the following format.\n",
                "\n",
                "*   Add security=SSL at the end\n",
                "\n",
                "**%sql ibm_db_sa://my-username:my-password\\@my-hostname:my-port/my-db-name?security=SSL**\n"
            ]
        },
        {
            "cell_type": "code",
            "execution_count": null,
            "metadata": {},
            "outputs": [],
            "source": []
        },
        {
            "cell_type": "code",
            "execution_count": null,
            "metadata": {},
            "outputs": [],
            "source": []
        },
        {
            "cell_type": "code",
            "execution_count": 4,
            "metadata": {},
            "outputs": [],
            "source": [
                "%sql ibm_db_sa://bgj10144:wWW2Pof88VLdsenI@fbd88901-ebdb-4a4f-a32e-9822b9fb237b.c1ogj3sd0tgtu0lqde00.databases.appdomain.cloud:32731/bludb?security=SSL"
            ]
        },
        {
            "cell_type": "code",
            "execution_count": 5,
            "metadata": {},
            "outputs": [
                {
                    "name": "stdout",
                    "output_type": "stream",
                    "text": [
                        " * ibm_db_sa://bgj10144:***@fbd88901-ebdb-4a4f-a32e-9822b9fb237b.c1ogj3sd0tgtu0lqde00.databases.appdomain.cloud:32731/bludb\n",
                        "Done.\n"
                    ]
                },
                {
                    "data": {
                        "text/html": [
                            "<table>\n",
                            "    <tr>\n",
                            "        <th>DATE</th>\n",
                            "        <th>time__utc_</th>\n",
                            "        <th>booster_version</th>\n",
                            "        <th>launch_site</th>\n",
                            "        <th>payload</th>\n",
                            "        <th>payload_mass__kg_</th>\n",
                            "        <th>orbit</th>\n",
                            "        <th>customer</th>\n",
                            "        <th>mission_outcome</th>\n",
                            "        <th>landing__outcome</th>\n",
                            "    </tr>\n",
                            "    <tr>\n",
                            "        <td>2010-06-04</td>\n",
                            "        <td>18:45:00</td>\n",
                            "        <td>F9 v1.0  B0003</td>\n",
                            "        <td>CCAFS LC-40</td>\n",
                            "        <td>Dragon Spacecraft Qualification Unit</td>\n",
                            "        <td>0</td>\n",
                            "        <td>LEO</td>\n",
                            "        <td>SpaceX</td>\n",
                            "        <td>Success</td>\n",
                            "        <td>Failure (parachute)</td>\n",
                            "    </tr>\n",
                            "    <tr>\n",
                            "        <td>2010-12-08</td>\n",
                            "        <td>15:43:00</td>\n",
                            "        <td>F9 v1.0  B0004</td>\n",
                            "        <td>CCAFS LC-40</td>\n",
                            "        <td>Dragon demo flight C1, two CubeSats, barrel of Brouere cheese</td>\n",
                            "        <td>0</td>\n",
                            "        <td>LEO (ISS)</td>\n",
                            "        <td>NASA (COTS) NRO</td>\n",
                            "        <td>Success</td>\n",
                            "        <td>Failure (parachute)</td>\n",
                            "    </tr>\n",
                            "    <tr>\n",
                            "        <td>2012-05-22</td>\n",
                            "        <td>07:44:00</td>\n",
                            "        <td>F9 v1.0  B0005</td>\n",
                            "        <td>CCAFS LC-40</td>\n",
                            "        <td>Dragon demo flight C2</td>\n",
                            "        <td>525</td>\n",
                            "        <td>LEO (ISS)</td>\n",
                            "        <td>NASA (COTS)</td>\n",
                            "        <td>Success</td>\n",
                            "        <td>No attempt</td>\n",
                            "    </tr>\n",
                            "    <tr>\n",
                            "        <td>2012-10-08</td>\n",
                            "        <td>00:35:00</td>\n",
                            "        <td>F9 v1.0  B0006</td>\n",
                            "        <td>CCAFS LC-40</td>\n",
                            "        <td>SpaceX CRS-1</td>\n",
                            "        <td>500</td>\n",
                            "        <td>LEO (ISS)</td>\n",
                            "        <td>NASA (CRS)</td>\n",
                            "        <td>Success</td>\n",
                            "        <td>No attempt</td>\n",
                            "    </tr>\n",
                            "    <tr>\n",
                            "        <td>2013-03-01</td>\n",
                            "        <td>15:10:00</td>\n",
                            "        <td>F9 v1.0  B0007</td>\n",
                            "        <td>CCAFS LC-40</td>\n",
                            "        <td>SpaceX CRS-2</td>\n",
                            "        <td>677</td>\n",
                            "        <td>LEO (ISS)</td>\n",
                            "        <td>NASA (CRS)</td>\n",
                            "        <td>Success</td>\n",
                            "        <td>No attempt</td>\n",
                            "    </tr>\n",
                            "</table>"
                        ],
                        "text/plain": [
                            "[(datetime.date(2010, 6, 4), datetime.time(18, 45), 'F9 v1.0  B0003', 'CCAFS LC-40', 'Dragon Spacecraft Qualification Unit', 0, 'LEO', 'SpaceX', 'Success', 'Failure (parachute)'),\n",
                            " (datetime.date(2010, 12, 8), datetime.time(15, 43), 'F9 v1.0  B0004', 'CCAFS LC-40', 'Dragon demo flight C1, two CubeSats, barrel of Brouere cheese', 0, 'LEO (ISS)', 'NASA (COTS) NRO', 'Success', 'Failure (parachute)'),\n",
                            " (datetime.date(2012, 5, 22), datetime.time(7, 44), 'F9 v1.0  B0005', 'CCAFS LC-40', 'Dragon demo flight C2', 525, 'LEO (ISS)', 'NASA (COTS)', 'Success', 'No attempt'),\n",
                            " (datetime.date(2012, 10, 8), datetime.time(0, 35), 'F9 v1.0  B0006', 'CCAFS LC-40', 'SpaceX CRS-1', 500, 'LEO (ISS)', 'NASA (CRS)', 'Success', 'No attempt'),\n",
                            " (datetime.date(2013, 3, 1), datetime.time(15, 10), 'F9 v1.0  B0007', 'CCAFS LC-40', 'SpaceX CRS-2', 677, 'LEO (ISS)', 'NASA (CRS)', 'Success', 'No attempt')]"
                        ]
                    },
                    "execution_count": 5,
                    "metadata": {},
                    "output_type": "execute_result"
                }
            ],
            "source": [
                "%sql SELECT * FROM SPACEX LIMIT 5\n"
            ]
        },
        {
            "cell_type": "markdown",
            "metadata": {},
            "source": [
                "## Tasks\n",
                "\n",
                "Now write and execute SQL queries to solve the assignment tasks.\n",
                "\n",
                "### Task 1\n",
                "\n",
                "##### Display the names of the unique launch sites  in the space mission\n"
            ]
        },
        {
            "cell_type": "code",
            "execution_count": 6,
            "metadata": {},
            "outputs": [
                {
                    "name": "stdout",
                    "output_type": "stream",
                    "text": [
                        " * ibm_db_sa://bgj10144:***@fbd88901-ebdb-4a4f-a32e-9822b9fb237b.c1ogj3sd0tgtu0lqde00.databases.appdomain.cloud:32731/bludb\n",
                        "Done.\n"
                    ]
                },
                {
                    "data": {
                        "text/html": [
                            "<table>\n",
                            "    <tr>\n",
                            "        <th>launch_site</th>\n",
                            "    </tr>\n",
                            "    <tr>\n",
                            "        <td>CCAFS LC-40</td>\n",
                            "    </tr>\n",
                            "    <tr>\n",
                            "        <td>CCAFS SLC-40</td>\n",
                            "    </tr>\n",
                            "    <tr>\n",
                            "        <td>KSC LC-39A</td>\n",
                            "    </tr>\n",
                            "    <tr>\n",
                            "        <td>VAFB SLC-4E</td>\n",
                            "    </tr>\n",
                            "</table>"
                        ],
                        "text/plain": [
                            "[('CCAFS LC-40',), ('CCAFS SLC-40',), ('KSC LC-39A',), ('VAFB SLC-4E',)]"
                        ]
                    },
                    "execution_count": 6,
                    "metadata": {},
                    "output_type": "execute_result"
                }
            ],
            "source": [
                "cur = %sql SELECT distinct(launch_site) FROM SPACEX\n",
                "cur"
            ]
        },
        {
            "cell_type": "markdown",
            "metadata": {},
            "source": [
                "### Task 2\n",
                "\n",
                "##### Display 5 records where launch sites begin with the string 'CCA'\n"
            ]
        },
        {
            "cell_type": "code",
            "execution_count": 7,
            "metadata": {},
            "outputs": [
                {
                    "name": "stdout",
                    "output_type": "stream",
                    "text": [
                        " * ibm_db_sa://bgj10144:***@fbd88901-ebdb-4a4f-a32e-9822b9fb237b.c1ogj3sd0tgtu0lqde00.databases.appdomain.cloud:32731/bludb\n",
                        "Done.\n"
                    ]
                },
                {
                    "data": {
                        "text/html": [
                            "<table>\n",
                            "    <tr>\n",
                            "        <th>DATE</th>\n",
                            "        <th>time__utc_</th>\n",
                            "        <th>booster_version</th>\n",
                            "        <th>launch_site</th>\n",
                            "        <th>payload</th>\n",
                            "        <th>payload_mass__kg_</th>\n",
                            "        <th>orbit</th>\n",
                            "        <th>customer</th>\n",
                            "        <th>mission_outcome</th>\n",
                            "        <th>landing__outcome</th>\n",
                            "    </tr>\n",
                            "    <tr>\n",
                            "        <td>2010-06-04</td>\n",
                            "        <td>18:45:00</td>\n",
                            "        <td>F9 v1.0  B0003</td>\n",
                            "        <td>CCAFS LC-40</td>\n",
                            "        <td>Dragon Spacecraft Qualification Unit</td>\n",
                            "        <td>0</td>\n",
                            "        <td>LEO</td>\n",
                            "        <td>SpaceX</td>\n",
                            "        <td>Success</td>\n",
                            "        <td>Failure (parachute)</td>\n",
                            "    </tr>\n",
                            "    <tr>\n",
                            "        <td>2010-12-08</td>\n",
                            "        <td>15:43:00</td>\n",
                            "        <td>F9 v1.0  B0004</td>\n",
                            "        <td>CCAFS LC-40</td>\n",
                            "        <td>Dragon demo flight C1, two CubeSats, barrel of Brouere cheese</td>\n",
                            "        <td>0</td>\n",
                            "        <td>LEO (ISS)</td>\n",
                            "        <td>NASA (COTS) NRO</td>\n",
                            "        <td>Success</td>\n",
                            "        <td>Failure (parachute)</td>\n",
                            "    </tr>\n",
                            "    <tr>\n",
                            "        <td>2012-05-22</td>\n",
                            "        <td>07:44:00</td>\n",
                            "        <td>F9 v1.0  B0005</td>\n",
                            "        <td>CCAFS LC-40</td>\n",
                            "        <td>Dragon demo flight C2</td>\n",
                            "        <td>525</td>\n",
                            "        <td>LEO (ISS)</td>\n",
                            "        <td>NASA (COTS)</td>\n",
                            "        <td>Success</td>\n",
                            "        <td>No attempt</td>\n",
                            "    </tr>\n",
                            "    <tr>\n",
                            "        <td>2012-10-08</td>\n",
                            "        <td>00:35:00</td>\n",
                            "        <td>F9 v1.0  B0006</td>\n",
                            "        <td>CCAFS LC-40</td>\n",
                            "        <td>SpaceX CRS-1</td>\n",
                            "        <td>500</td>\n",
                            "        <td>LEO (ISS)</td>\n",
                            "        <td>NASA (CRS)</td>\n",
                            "        <td>Success</td>\n",
                            "        <td>No attempt</td>\n",
                            "    </tr>\n",
                            "    <tr>\n",
                            "        <td>2013-03-01</td>\n",
                            "        <td>15:10:00</td>\n",
                            "        <td>F9 v1.0  B0007</td>\n",
                            "        <td>CCAFS LC-40</td>\n",
                            "        <td>SpaceX CRS-2</td>\n",
                            "        <td>677</td>\n",
                            "        <td>LEO (ISS)</td>\n",
                            "        <td>NASA (CRS)</td>\n",
                            "        <td>Success</td>\n",
                            "        <td>No attempt</td>\n",
                            "    </tr>\n",
                            "</table>"
                        ],
                        "text/plain": [
                            "[(datetime.date(2010, 6, 4), datetime.time(18, 45), 'F9 v1.0  B0003', 'CCAFS LC-40', 'Dragon Spacecraft Qualification Unit', 0, 'LEO', 'SpaceX', 'Success', 'Failure (parachute)'),\n",
                            " (datetime.date(2010, 12, 8), datetime.time(15, 43), 'F9 v1.0  B0004', 'CCAFS LC-40', 'Dragon demo flight C1, two CubeSats, barrel of Brouere cheese', 0, 'LEO (ISS)', 'NASA (COTS) NRO', 'Success', 'Failure (parachute)'),\n",
                            " (datetime.date(2012, 5, 22), datetime.time(7, 44), 'F9 v1.0  B0005', 'CCAFS LC-40', 'Dragon demo flight C2', 525, 'LEO (ISS)', 'NASA (COTS)', 'Success', 'No attempt'),\n",
                            " (datetime.date(2012, 10, 8), datetime.time(0, 35), 'F9 v1.0  B0006', 'CCAFS LC-40', 'SpaceX CRS-1', 500, 'LEO (ISS)', 'NASA (CRS)', 'Success', 'No attempt'),\n",
                            " (datetime.date(2013, 3, 1), datetime.time(15, 10), 'F9 v1.0  B0007', 'CCAFS LC-40', 'SpaceX CRS-2', 677, 'LEO (ISS)', 'NASA (CRS)', 'Success', 'No attempt')]"
                        ]
                    },
                    "execution_count": 7,
                    "metadata": {},
                    "output_type": "execute_result"
                }
            ],
            "source": [
                "%sql SELECT * FROM SPACEX WHERE launch_site LIKE 'CCA%' LIMIT 5"
            ]
        },
        {
            "cell_type": "markdown",
            "metadata": {},
            "source": [
                "### Task 3\n",
                "\n",
                "##### Display the total payload mass carried by boosters launched by NASA (CRS)\n"
            ]
        },
        {
            "cell_type": "code",
            "execution_count": 8,
            "metadata": {},
            "outputs": [
                {
                    "name": "stdout",
                    "output_type": "stream",
                    "text": [
                        " * ibm_db_sa://bgj10144:***@fbd88901-ebdb-4a4f-a32e-9822b9fb237b.c1ogj3sd0tgtu0lqde00.databases.appdomain.cloud:32731/bludb\n",
                        "Done.\n"
                    ]
                },
                {
                    "data": {
                        "text/html": [
                            "<table>\n",
                            "    <tr>\n",
                            "        <th>total_payload</th>\n",
                            "    </tr>\n",
                            "    <tr>\n",
                            "        <td>45596</td>\n",
                            "    </tr>\n",
                            "</table>"
                        ],
                        "text/plain": [
                            "[(45596,)]"
                        ]
                    },
                    "execution_count": 8,
                    "metadata": {},
                    "output_type": "execute_result"
                }
            ],
            "source": [
                "%sql SELECT SUM(PAYLOAD_MASS__KG_) as TOTAL_PAYLOAD FROM SPACEX WHERE Customer = 'NASA (CRS)'"
            ]
        },
        {
            "cell_type": "markdown",
            "metadata": {},
            "source": [
                "### Task 4\n",
                "\n",
                "##### Display average payload mass carried by booster version F9 v1.1\n"
            ]
        },
        {
            "cell_type": "code",
            "execution_count": 9,
            "metadata": {},
            "outputs": [
                {
                    "name": "stdout",
                    "output_type": "stream",
                    "text": [
                        " * ibm_db_sa://bgj10144:***@fbd88901-ebdb-4a4f-a32e-9822b9fb237b.c1ogj3sd0tgtu0lqde00.databases.appdomain.cloud:32731/bludb\n",
                        "Done.\n"
                    ]
                },
                {
                    "data": {
                        "text/html": [
                            "<table>\n",
                            "    <tr>\n",
                            "        <th>avg_payload</th>\n",
                            "    </tr>\n",
                            "    <tr>\n",
                            "        <td>2928</td>\n",
                            "    </tr>\n",
                            "</table>"
                        ],
                        "text/plain": [
                            "[(2928,)]"
                        ]
                    },
                    "execution_count": 9,
                    "metadata": {},
                    "output_type": "execute_result"
                }
            ],
            "source": [
                "%sql SELECT AVG(PAYLOAD_MASS__KG_) as AVG_PAYLOAD FROM SPACEX WHERE Booster_Version = 'F9 v1.1'"
            ]
        },
        {
            "cell_type": "markdown",
            "metadata": {},
            "source": [
                "### Task 5\n",
                "\n",
                "##### List the date when the first successful landing outcome in ground pad was acheived.\n",
                "\n",
                "*Hint:Use min function*\n"
            ]
        },
        {
            "cell_type": "code",
            "execution_count": 10,
            "metadata": {},
            "outputs": [
                {
                    "name": "stdout",
                    "output_type": "stream",
                    "text": [
                        " * ibm_db_sa://bgj10144:***@fbd88901-ebdb-4a4f-a32e-9822b9fb237b.c1ogj3sd0tgtu0lqde00.databases.appdomain.cloud:32731/bludb\n",
                        "Done.\n"
                    ]
                },
                {
                    "data": {
                        "text/html": [
                            "<table>\n",
                            "    <tr>\n",
                            "        <th>1</th>\n",
                            "    </tr>\n",
                            "    <tr>\n",
                            "        <td>2015-12-22</td>\n",
                            "    </tr>\n",
                            "</table>"
                        ],
                        "text/plain": [
                            "[(datetime.date(2015, 12, 22),)]"
                        ]
                    },
                    "execution_count": 10,
                    "metadata": {},
                    "output_type": "execute_result"
                }
            ],
            "source": [
                "%sql SELECT min(Date) from SPACEX where Landing__Outcome = 'Success (ground pad)'\n"
            ]
        },
        {
            "cell_type": "markdown",
            "metadata": {},
            "source": [
                "### Task 6\n",
                "\n",
                "##### List the names of the boosters which have success in drone ship and have payload mass greater than 4000 but less than 6000\n"
            ]
        },
        {
            "cell_type": "code",
            "execution_count": 11,
            "metadata": {},
            "outputs": [
                {
                    "name": "stdout",
                    "output_type": "stream",
                    "text": [
                        " * ibm_db_sa://bgj10144:***@fbd88901-ebdb-4a4f-a32e-9822b9fb237b.c1ogj3sd0tgtu0lqde00.databases.appdomain.cloud:32731/bludb\n",
                        "Done.\n"
                    ]
                },
                {
                    "data": {
                        "text/html": [
                            "<table>\n",
                            "    <tr>\n",
                            "        <th>payload</th>\n",
                            "    </tr>\n",
                            "    <tr>\n",
                            "        <td>JCSAT-14</td>\n",
                            "    </tr>\n",
                            "    <tr>\n",
                            "        <td>JCSAT-16</td>\n",
                            "    </tr>\n",
                            "    <tr>\n",
                            "        <td>SES-10</td>\n",
                            "    </tr>\n",
                            "    <tr>\n",
                            "        <td>NROL-76</td>\n",
                            "    </tr>\n",
                            "    <tr>\n",
                            "        <td>Boeing X-37B OTV-5</td>\n",
                            "    </tr>\n",
                            "    <tr>\n",
                            "        <td>SES-11 / EchoStar 105</td>\n",
                            "    </tr>\n",
                            "    <tr>\n",
                            "        <td>Zuma</td>\n",
                            "    </tr>\n",
                            "    <tr>\n",
                            "        <td>Merah Putih</td>\n",
                            "    </tr>\n",
                            "    <tr>\n",
                            "        <td>Es hail 2</td>\n",
                            "    </tr>\n",
                            "    <tr>\n",
                            "        <td>SSO-A</td>\n",
                            "    </tr>\n",
                            "    <tr>\n",
                            "        <td>Nusantara Satu, Beresheet Moon lander, S5</td>\n",
                            "    </tr>\n",
                            "    <tr>\n",
                            "        <td>RADARSAT Constellation, SpaceX CRS-18 </td>\n",
                            "    </tr>\n",
                            "    <tr>\n",
                            "        <td>GPS III-03, ANASIS-II</td>\n",
                            "    </tr>\n",
                            "    <tr>\n",
                            "        <td>ANASIS-II, Starlink 9 v1.0</td>\n",
                            "    </tr>\n",
                            "    <tr>\n",
                            "        <td>GPS III-04 , Crew-1</td>\n",
                            "    </tr>\n",
                            "</table>"
                        ],
                        "text/plain": [
                            "[('JCSAT-14',),\n",
                            " ('JCSAT-16',),\n",
                            " ('SES-10',),\n",
                            " ('NROL-76',),\n",
                            " ('Boeing X-37B OTV-5',),\n",
                            " ('SES-11 / EchoStar 105',),\n",
                            " ('Zuma',),\n",
                            " ('Merah Putih',),\n",
                            " ('Es hail 2',),\n",
                            " ('SSO-A',),\n",
                            " ('Nusantara Satu, Beresheet Moon lander, S5',),\n",
                            " ('RADARSAT Constellation, SpaceX CRS-18 ',),\n",
                            " ('GPS III-03, ANASIS-II',),\n",
                            " ('ANASIS-II, Starlink 9 v1.0',),\n",
                            " ('GPS III-04 , Crew-1',)]"
                        ]
                    },
                    "execution_count": 11,
                    "metadata": {},
                    "output_type": "execute_result"
                }
            ],
            "source": [
                "%sql SELECT Payload from SPACEX where Landing__Outcome Like 'Success%' and PAYLOAD_MASS__KG_ BETWEEN 4000 and 6000"
            ]
        },
        {
            "cell_type": "markdown",
            "metadata": {},
            "source": [
                "### Task 7\n",
                "\n",
                "##### List the total number of successful and failure mission outcomes\n"
            ]
        },
        {
            "cell_type": "code",
            "execution_count": 12,
            "metadata": {},
            "outputs": [
                {
                    "name": "stdout",
                    "output_type": "stream",
                    "text": [
                        " * ibm_db_sa://bgj10144:***@fbd88901-ebdb-4a4f-a32e-9822b9fb237b.c1ogj3sd0tgtu0lqde00.databases.appdomain.cloud:32731/bludb\n",
                        "Done.\n"
                    ]
                },
                {
                    "data": {
                        "text/html": [
                            "<table>\n",
                            "    <tr>\n",
                            "        <th>1</th>\n",
                            "        <th>2</th>\n",
                            "    </tr>\n",
                            "    <tr>\n",
                            "        <td>Failure</td>\n",
                            "        <td>1</td>\n",
                            "    </tr>\n",
                            "    <tr>\n",
                            "        <td>Success</td>\n",
                            "        <td>100</td>\n",
                            "    </tr>\n",
                            "</table>"
                        ],
                        "text/plain": [
                            "[('Failure', 1), ('Success', 100)]"
                        ]
                    },
                    "execution_count": 12,
                    "metadata": {},
                    "output_type": "execute_result"
                }
            ],
            "source": [
                "%sql SELECT (CASE WHEN Mission_Outcome like 'Success%' THEN 'Success' ELSE 'Failure' END), count(*) from SPACEX group by (CASE WHEN Mission_Outcome like 'Success%' THEN 'Success' ELSE 'Failure' END)"
            ]
        },
        {
            "cell_type": "markdown",
            "metadata": {},
            "source": [
                "### Task 8\n",
                "\n",
                "##### List the   names of the booster_versions which have carried the maximum payload mass. Use a subquery\n"
            ]
        },
        {
            "cell_type": "code",
            "execution_count": 13,
            "metadata": {},
            "outputs": [
                {
                    "name": "stdout",
                    "output_type": "stream",
                    "text": [
                        " * ibm_db_sa://bgj10144:***@fbd88901-ebdb-4a4f-a32e-9822b9fb237b.c1ogj3sd0tgtu0lqde00.databases.appdomain.cloud:32731/bludb\n",
                        "Done.\n"
                    ]
                },
                {
                    "data": {
                        "text/html": [
                            "<table>\n",
                            "    <tr>\n",
                            "        <th>booster_version</th>\n",
                            "    </tr>\n",
                            "    <tr>\n",
                            "        <td>F9 B5 B1048.4</td>\n",
                            "    </tr>\n",
                            "    <tr>\n",
                            "        <td>F9 B5 B1049.4</td>\n",
                            "    </tr>\n",
                            "    <tr>\n",
                            "        <td>F9 B5 B1051.3</td>\n",
                            "    </tr>\n",
                            "    <tr>\n",
                            "        <td>F9 B5 B1056.4</td>\n",
                            "    </tr>\n",
                            "    <tr>\n",
                            "        <td>F9 B5 B1048.5</td>\n",
                            "    </tr>\n",
                            "    <tr>\n",
                            "        <td>F9 B5 B1051.4</td>\n",
                            "    </tr>\n",
                            "    <tr>\n",
                            "        <td>F9 B5 B1049.5</td>\n",
                            "    </tr>\n",
                            "    <tr>\n",
                            "        <td>F9 B5 B1060.2</td>\n",
                            "    </tr>\n",
                            "    <tr>\n",
                            "        <td>F9 B5 B1058.3</td>\n",
                            "    </tr>\n",
                            "    <tr>\n",
                            "        <td>F9 B5 B1051.6</td>\n",
                            "    </tr>\n",
                            "    <tr>\n",
                            "        <td>F9 B5 B1060.3</td>\n",
                            "    </tr>\n",
                            "    <tr>\n",
                            "        <td>F9 B5 B1049.7</td>\n",
                            "    </tr>\n",
                            "</table>"
                        ],
                        "text/plain": [
                            "[('F9 B5 B1048.4',),\n",
                            " ('F9 B5 B1049.4',),\n",
                            " ('F9 B5 B1051.3',),\n",
                            " ('F9 B5 B1056.4',),\n",
                            " ('F9 B5 B1048.5',),\n",
                            " ('F9 B5 B1051.4',),\n",
                            " ('F9 B5 B1049.5',),\n",
                            " ('F9 B5 B1060.2',),\n",
                            " ('F9 B5 B1058.3',),\n",
                            " ('F9 B5 B1051.6',),\n",
                            " ('F9 B5 B1060.3',),\n",
                            " ('F9 B5 B1049.7',)]"
                        ]
                    },
                    "execution_count": 13,
                    "metadata": {},
                    "output_type": "execute_result"
                }
            ],
            "source": [
                "%sql SELECT Booster_Version FROM SPACEX WHERE PAYLOAD_MASS__KG_ = (SELECT max(PAYLOAD_MASS__KG_) FROM SPACEX)"
            ]
        },
        {
            "cell_type": "markdown",
            "metadata": {},
            "source": [
                "### Task 9\n",
                "\n",
                "##### List the failed landing_outcomes in drone ship, their booster versions, and launch site names for in year 2015\n"
            ]
        },
        {
            "cell_type": "code",
            "execution_count": 14,
            "metadata": {},
            "outputs": [
                {
                    "name": "stdout",
                    "output_type": "stream",
                    "text": [
                        " * ibm_db_sa://bgj10144:***@fbd88901-ebdb-4a4f-a32e-9822b9fb237b.c1ogj3sd0tgtu0lqde00.databases.appdomain.cloud:32731/bludb\n",
                        "Done.\n"
                    ]
                },
                {
                    "data": {
                        "text/html": [
                            "<table>\n",
                            "    <tr>\n",
                            "        <th>month_name</th>\n",
                            "        <th>landing__outcome</th>\n",
                            "        <th>booster_version</th>\n",
                            "    </tr>\n",
                            "    <tr>\n",
                            "        <td>January</td>\n",
                            "        <td>Failure (drone ship)</td>\n",
                            "        <td>F9 v1.1 B1012</td>\n",
                            "    </tr>\n",
                            "    <tr>\n",
                            "        <td>April</td>\n",
                            "        <td>Failure (drone ship)</td>\n",
                            "        <td>F9 v1.1 B1015</td>\n",
                            "    </tr>\n",
                            "</table>"
                        ],
                        "text/plain": [
                            "[('January', 'Failure (drone ship)', 'F9 v1.1 B1012'),\n",
                            " ('April', 'Failure (drone ship)', 'F9 v1.1 B1015')]"
                        ]
                    },
                    "execution_count": 14,
                    "metadata": {},
                    "output_type": "execute_result"
                }
            ],
            "source": [
                "\n",
                "#%sql SELECT (case substr(Date, 4, 2) when '01' then 'January' when '02' then 'February' when '03' then 'March' when '04' then 'April' when '05' then 'May' when '06' then 'June' when '07' then 'July' when '08' then 'August' when '09' then 'September' when '10' then 'October' when '11' then 'November' when '12' then 'December' else '' end) AS month_name, Landing__Outcome, Booster_Version FROM SPACEX WHERE Landing__Outcome = 'Failure (drone ship)'and substr(Date,7,4)='2015'\n",
                "#%sql SELECT (case substr(Date, 6, 2) when '01' then 'January' when '02' then 'February' when '03' then 'March' when '04' then 'April' when '05' then 'May' when '06' then 'June' when '07' then 'July' when '08' then 'August' when '09' then 'September' when '10' then 'October' when '11' then 'November' when '12' then 'December' else '' end) AS month_name, Landing__Outcome, Booster_Version FROM SPACEX WHERE Landing__Outcome = 'Failure (drone ship)'and substr(Date,1,4)='2015'\n",
                "%sql SELECT MONTHNAME(Date) AS month_name, Landing__Outcome, Booster_Version FROM SPACEX WHERE Landing__Outcome = 'Failure (drone ship)'and substr(Date,1,4)='2015'"
            ]
        },
        {
            "cell_type": "markdown",
            "metadata": {},
            "source": [
                "### Task 10\n",
                "\n",
                "##### Rank the count of landing outcomes (such as Failure (drone ship) or Success (ground pad)) between the date 2010-06-04 and 2017-03-20, in descending order\n"
            ]
        },
        {
            "cell_type": "code",
            "execution_count": 15,
            "metadata": {},
            "outputs": [
                {
                    "name": "stdout",
                    "output_type": "stream",
                    "text": [
                        " * ibm_db_sa://bgj10144:***@fbd88901-ebdb-4a4f-a32e-9822b9fb237b.c1ogj3sd0tgtu0lqde00.databases.appdomain.cloud:32731/bludb\n",
                        "Done.\n"
                    ]
                },
                {
                    "data": {
                        "text/html": [
                            "<table>\n",
                            "    <tr>\n",
                            "        <th>COUNT</th>\n",
                            "        <th>landing__outcome</th>\n",
                            "    </tr>\n",
                            "    <tr>\n",
                            "        <td>5</td>\n",
                            "        <td>Success (drone ship)</td>\n",
                            "    </tr>\n",
                            "    <tr>\n",
                            "        <td>3</td>\n",
                            "        <td>Success (ground pad)</td>\n",
                            "    </tr>\n",
                            "</table>"
                        ],
                        "text/plain": [
                            "[(5, 'Success (drone ship)'), (3, 'Success (ground pad)')]"
                        ]
                    },
                    "execution_count": 15,
                    "metadata": {},
                    "output_type": "execute_result"
                }
            ],
            "source": [
                "%sql SELECT Count(*) as Count, Landing__Outcome FROM SPACEX WHERE Date BETWEEN '2010-06-04' AND '2017-03-20' and Landing__Outcome like 'Success%' group by Landing__Outcome Order By Count(*) desc"
            ]
        },
        {
            "cell_type": "markdown",
            "metadata": {},
            "source": [
                "### Reference Links\n",
                "\n",
                "*   <a href =\"https://cf-courses-data.s3.us.cloud-object-storage.appdomain.cloud/IBMDeveloperSkillsNetwork-DB0201EN-SkillsNetwork/labs/Labs_Coursera_V5/labs/Lab%20-%20String%20Patterns%20-%20Sorting%20-%20Grouping/instructional-labs.md.html?utm_medium=Exinfluencer&utm_source=Exinfluencer&utm_content=000026UJ&utm_term=10006555&utm_id=NA-SkillsNetwork-Channel-SkillsNetworkCoursesIBMDS0321ENSkillsNetwork26802033-2022-01-01&origin=www.coursera.org\">Hands-on Lab : String Patterns, Sorting and Grouping</a>\n",
                "\n",
                "*   <a  href=\"https://cf-courses-data.s3.us.cloud-object-storage.appdomain.cloud/IBMDeveloperSkillsNetwork-DB0201EN-SkillsNetwork/labs/Labs_Coursera_V5/labs/Lab%20-%20Built-in%20functions%20/Hands-on_Lab__Built-in_Functions.md.html?utm_medium=Exinfluencer&utm_source=Exinfluencer&utm_content=000026UJ&utm_term=10006555&utm_id=NA-SkillsNetwork-Channel-SkillsNetworkCoursesIBMDS0321ENSkillsNetwork26802033-2022-01-01&origin=www.coursera.org\">Hands-on Lab: Built-in functions</a>\n",
                "\n",
                "*   <a  href=\"https://cf-courses-data.s3.us.cloud-object-storage.appdomain.cloud/IBMDeveloperSkillsNetwork-DB0201EN-SkillsNetwork/labs/Labs_Coursera_V5/labs/Lab%20-%20Sub-queries%20and%20Nested%20SELECTs%20/instructional-labs.md.html?utm_medium=Exinfluencer&utm_source=Exinfluencer&utm_content=000026UJ&utm_term=10006555&utm_id=NA-SkillsNetwork-Channel-SkillsNetworkCoursesIBMDS0321ENSkillsNetwork26802033-2022-01-01&origin=www.coursera.org\">Hands-on Lab : Sub-queries and Nested SELECT Statements</a>\n",
                "\n",
                "*   <a href=\"https://cf-courses-data.s3.us.cloud-object-storage.appdomain.cloud/IBMDeveloperSkillsNetwork-DB0201EN-SkillsNetwork/labs/Module%205/DB0201EN-Week3-1-3-SQLmagic.ipynb?utm_medium=Exinfluencer&utm_source=Exinfluencer&utm_content=000026UJ&utm_term=10006555&utm_id=NA-SkillsNetwork-Channel-SkillsNetworkCoursesIBMDS0321ENSkillsNetwork26802033-2022-01-01\">Hands-on Tutorial: Accessing Databases with SQL magic</a>\n",
                "\n",
                "*   <a href= \"https://cf-courses-data.s3.us.cloud-object-storage.appdomain.cloud/IBMDeveloperSkillsNetwork-DB0201EN-SkillsNetwork/labs/Module%205/DB0201EN-Week3-1-4-Analyzing.ipynb?utm_medium=Exinfluencer&utm_source=Exinfluencer&utm_content=000026UJ&utm_term=10006555&utm_id=NA-SkillsNetwork-Channel-SkillsNetworkCoursesIBMDS0321ENSkillsNetwork26802033-2022-01-01\">Hands-on Lab: Analyzing a real World Data Set</a>\n"
            ]
        },
        {
            "cell_type": "markdown",
            "metadata": {},
            "source": [
                "## Author(s)\n",
                "\n",
                "<h4> Lakshmi Holla </h4>\n"
            ]
        },
        {
            "cell_type": "markdown",
            "metadata": {},
            "source": [
                "## Other Contributors\n",
                "\n",
                "<h4> Rav Ahuja </h4>\n"
            ]
        },
        {
            "cell_type": "markdown",
            "metadata": {},
            "source": [
                "## Change log\n",
                "\n",
                "| Date       | Version | Changed by    | Change Description        |\n",
                "| ---------- | ------- | ------------- | ------------------------- |\n",
                "| 2021-10-12 | 0.4     | Lakshmi Holla | Changed markdown          |\n",
                "| 2021-08-24 | 0.3     | Lakshmi Holla | Added library update      |\n",
                "| 2021-07-09 | 0.2     | Lakshmi Holla | Changes made in magic sql |\n",
                "| 2021-05-20 | 0.1     | Lakshmi Holla | Created Initial Version   |\n"
            ]
        },
        {
            "cell_type": "markdown",
            "metadata": {},
            "source": [
                "## <h3 align=\"center\"> © IBM Corporation 2021. All rights reserved. <h3/>\n"
            ]
        }
    ],
    "metadata": {
        "kernelspec": {
            "display_name": "Python 3",
            "language": "python",
            "name": "python3"
        },
        "language_info": {
            "codemirror_mode": {
                "name": "ipython",
                "version": 3
            },
            "file_extension": ".py",
            "mimetype": "text/x-python",
            "name": "python",
            "nbconvert_exporter": "python",
            "pygments_lexer": "ipython3",
            "version": "3.10.8"
        },
        "vscode": {
            "interpreter": {
                "hash": "d27e63bbcbf44b66009138421d5fec21d09f80d30f8c9f9ef8b69daf5d040b86"
            }
        }
    },
    "nbformat": 4,
    "nbformat_minor": 4
}
